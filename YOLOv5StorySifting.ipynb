{
 "cells": [
  {
   "cell_type": "markdown",
   "id": "8f75b734",
   "metadata": {},
   "source": [
    "# Using YOLOv5 to train a model for story sifting."
   ]
  },
  {
   "cell_type": "code",
   "execution_count": 8,
   "id": "8ebd18e5",
   "metadata": {},
   "outputs": [
    {
     "name": "stderr",
     "output_type": "stream",
     "text": [
      "YOLOv5 🚀 v6.2-183-gc98128f Python-3.8.11 torch-1.9.0 CPU\n"
     ]
    },
    {
     "name": "stdout",
     "output_type": "stream",
     "text": [
      "Setup complete ✅ (8 CPUs, 16.0 GB RAM, 420.6/460.4 GB disk)\n"
     ]
    }
   ],
   "source": [
    "import torch\n",
    "import utils\n",
    "display = utils.notebook_init()  # checks"
   ]
  },
  {
   "cell_type": "code",
   "execution_count": null,
   "id": "c858aefb",
   "metadata": {},
   "outputs": [],
   "source": [
    "# train and val data as \n",
    "# 1) directory: path/images/, \n",
    "# 2) file: path/images.txt, or \n",
    "# 3) list: [path1/images/, path2/images/]\n",
    "\n",
    "train: ../coco128/images/train2017/\n",
    "val: ../coco128/images/train2017/\n",
    "\n",
    "# number of classes\n",
    "nc: 6\n",
    "\n",
    "# class names\n",
    "names: ['reference_riches_to_rags'\n",
    "            ,'reference_man_in_hole'\n",
    "            ,'reference_icarus'\n",
    "            ,'reference_oedipus'\n",
    "            ,'reference_cinderella']\n"
   ]
  },
  {
   "cell_type": "code",
   "execution_count": 1,
   "id": "e2eaf713",
   "metadata": {},
   "outputs": [
    {
     "ename": "SyntaxError",
     "evalue": "invalid syntax (3225623044.py, line 6)",
     "output_type": "error",
     "traceback": [
      "\u001b[0;36m  File \u001b[0;32m\"/var/folders/fh/yw89p_h56l7672rq1wl_byq00000gq/T/ipykernel_23510/3225623044.py\"\u001b[0;36m, line \u001b[0;32m6\u001b[0m\n\u001b[0;31m    train: ../coco128/images/train2017/\u001b[0m\n\u001b[0m           ^\u001b[0m\n\u001b[0;31mSyntaxError\u001b[0m\u001b[0;31m:\u001b[0m invalid syntax\n"
     ]
    }
   ],
   "source": [
    "# train and val data as \n",
    "# 1) directory: path/images/, \n",
    "# 2) file: path/images.txt, or \n",
    "# 3) list: [path1/images/, path2/images/]\n",
    "\n",
    "train: ../coco128/images/train2017/\n",
    "val: ../coco128/images/train2017/\n",
    "\n",
    "# number of classes\n",
    "nc: 6\n",
    "\n",
    "# class names\n",
    "names: ['reference_riches_to_rags'\n",
    "            ,'reference_man_in_hole'\n",
    "            ,'reference_icarus'\n",
    "            ,'reference_oedipus'\n",
    "            ,'reference_cinderella']"
   ]
  },
  {
   "cell_type": "code",
   "execution_count": null,
   "id": "482ff3b0",
   "metadata": {},
   "outputs": [],
   "source": []
  }
 ],
 "metadata": {
  "kernelspec": {
   "display_name": "Python 3 (ipykernel)",
   "language": "python",
   "name": "python3"
  },
  "language_info": {
   "codemirror_mode": {
    "name": "ipython",
    "version": 3
   },
   "file_extension": ".py",
   "mimetype": "text/x-python",
   "name": "python",
   "nbconvert_exporter": "python",
   "pygments_lexer": "ipython3",
   "version": "3.8.11"
  }
 },
 "nbformat": 4,
 "nbformat_minor": 5
}
